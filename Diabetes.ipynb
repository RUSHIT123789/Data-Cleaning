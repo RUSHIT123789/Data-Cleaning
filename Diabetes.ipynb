{
 "cells": [
  {
   "cell_type": "code",
   "execution_count": 47,
   "id": "3a8580b9",
   "metadata": {},
   "outputs": [],
   "source": [
    "import matplotlib.pylab as plt\n",
    "import pandas as pd\n",
    "import numpy as np\n",
    "import matplotlib.pyplot as plt\n",
    "import seaborn as sns\n",
    "from scipy.stats import skew \n",
    "\n",
    "from sklearn.preprocessing import StandardScaler\n",
    "from sklearn.model_selection import train_test_split\n",
    "from sklearn.metrics import accuracy_score\n",
    "from sklearn.neighbors import NearestNeighbors, KNeighborsClassifier\n",
    "from sklearn.linear_model import LogisticRegression, LogisticRegressionCV\n",
    "\n",
    "from dmba import classificationSummary, gainsChart, liftChart\n",
    "from dmba.metric import AIC_score\n",
    "from mord import LogisticIT\n",
    "from sklearn.naive_bayes import MultinomialNB\n",
    "from sklearn.metrics import confusion_matrix\n",
    "\n",
    "import warnings\n",
    "warnings.filterwarnings('ignore')"
   ]
  },
  {
   "cell_type": "markdown",
   "id": "bac441c1",
   "metadata": {},
   "source": [
    "### Problem Statement\n",
    "The model trained based on this dataset will help dietitians to plan proper diet for thier clients based on their current diagnostic measurements, so that they can avoid the risk of having diabetes in future. This dataset has been taken from kaggle, originally collected by National Institute of Diabetes and Digestive and Kidney Diseases. "
   ]
  },
  {
   "cell_type": "code",
   "execution_count": 24,
   "id": "6ea2d59a",
   "metadata": {},
   "outputs": [
    {
     "data": {
      "text/html": [
       "<div>\n",
       "<style scoped>\n",
       "    .dataframe tbody tr th:only-of-type {\n",
       "        vertical-align: middle;\n",
       "    }\n",
       "\n",
       "    .dataframe tbody tr th {\n",
       "        vertical-align: top;\n",
       "    }\n",
       "\n",
       "    .dataframe thead th {\n",
       "        text-align: right;\n",
       "    }\n",
       "</style>\n",
       "<table border=\"1\" class=\"dataframe\">\n",
       "  <thead>\n",
       "    <tr style=\"text-align: right;\">\n",
       "      <th></th>\n",
       "      <th>Pregnancies</th>\n",
       "      <th>Glucose</th>\n",
       "      <th>BloodPressure</th>\n",
       "      <th>SkinThickness</th>\n",
       "      <th>Insulin</th>\n",
       "      <th>BMI</th>\n",
       "      <th>DiabetesPedigreeFunction</th>\n",
       "      <th>Age</th>\n",
       "      <th>Outcome</th>\n",
       "    </tr>\n",
       "  </thead>\n",
       "  <tbody>\n",
       "    <tr>\n",
       "      <th>0</th>\n",
       "      <td>6</td>\n",
       "      <td>148</td>\n",
       "      <td>72</td>\n",
       "      <td>35</td>\n",
       "      <td>0</td>\n",
       "      <td>33.6</td>\n",
       "      <td>0.627</td>\n",
       "      <td>50</td>\n",
       "      <td>1</td>\n",
       "    </tr>\n",
       "    <tr>\n",
       "      <th>1</th>\n",
       "      <td>1</td>\n",
       "      <td>85</td>\n",
       "      <td>66</td>\n",
       "      <td>29</td>\n",
       "      <td>0</td>\n",
       "      <td>26.6</td>\n",
       "      <td>0.351</td>\n",
       "      <td>31</td>\n",
       "      <td>0</td>\n",
       "    </tr>\n",
       "    <tr>\n",
       "      <th>2</th>\n",
       "      <td>8</td>\n",
       "      <td>183</td>\n",
       "      <td>64</td>\n",
       "      <td>0</td>\n",
       "      <td>0</td>\n",
       "      <td>23.3</td>\n",
       "      <td>0.672</td>\n",
       "      <td>32</td>\n",
       "      <td>1</td>\n",
       "    </tr>\n",
       "    <tr>\n",
       "      <th>3</th>\n",
       "      <td>1</td>\n",
       "      <td>89</td>\n",
       "      <td>66</td>\n",
       "      <td>23</td>\n",
       "      <td>94</td>\n",
       "      <td>28.1</td>\n",
       "      <td>0.167</td>\n",
       "      <td>21</td>\n",
       "      <td>0</td>\n",
       "    </tr>\n",
       "    <tr>\n",
       "      <th>4</th>\n",
       "      <td>0</td>\n",
       "      <td>137</td>\n",
       "      <td>40</td>\n",
       "      <td>35</td>\n",
       "      <td>168</td>\n",
       "      <td>43.1</td>\n",
       "      <td>2.288</td>\n",
       "      <td>33</td>\n",
       "      <td>1</td>\n",
       "    </tr>\n",
       "    <tr>\n",
       "      <th>...</th>\n",
       "      <td>...</td>\n",
       "      <td>...</td>\n",
       "      <td>...</td>\n",
       "      <td>...</td>\n",
       "      <td>...</td>\n",
       "      <td>...</td>\n",
       "      <td>...</td>\n",
       "      <td>...</td>\n",
       "      <td>...</td>\n",
       "    </tr>\n",
       "    <tr>\n",
       "      <th>763</th>\n",
       "      <td>10</td>\n",
       "      <td>101</td>\n",
       "      <td>76</td>\n",
       "      <td>48</td>\n",
       "      <td>180</td>\n",
       "      <td>32.9</td>\n",
       "      <td>0.171</td>\n",
       "      <td>63</td>\n",
       "      <td>0</td>\n",
       "    </tr>\n",
       "    <tr>\n",
       "      <th>764</th>\n",
       "      <td>2</td>\n",
       "      <td>122</td>\n",
       "      <td>70</td>\n",
       "      <td>27</td>\n",
       "      <td>0</td>\n",
       "      <td>36.8</td>\n",
       "      <td>0.340</td>\n",
       "      <td>27</td>\n",
       "      <td>0</td>\n",
       "    </tr>\n",
       "    <tr>\n",
       "      <th>765</th>\n",
       "      <td>5</td>\n",
       "      <td>121</td>\n",
       "      <td>72</td>\n",
       "      <td>23</td>\n",
       "      <td>112</td>\n",
       "      <td>26.2</td>\n",
       "      <td>0.245</td>\n",
       "      <td>30</td>\n",
       "      <td>0</td>\n",
       "    </tr>\n",
       "    <tr>\n",
       "      <th>766</th>\n",
       "      <td>1</td>\n",
       "      <td>126</td>\n",
       "      <td>60</td>\n",
       "      <td>0</td>\n",
       "      <td>0</td>\n",
       "      <td>30.1</td>\n",
       "      <td>0.349</td>\n",
       "      <td>47</td>\n",
       "      <td>1</td>\n",
       "    </tr>\n",
       "    <tr>\n",
       "      <th>767</th>\n",
       "      <td>1</td>\n",
       "      <td>93</td>\n",
       "      <td>70</td>\n",
       "      <td>31</td>\n",
       "      <td>0</td>\n",
       "      <td>30.4</td>\n",
       "      <td>0.315</td>\n",
       "      <td>23</td>\n",
       "      <td>0</td>\n",
       "    </tr>\n",
       "  </tbody>\n",
       "</table>\n",
       "<p>768 rows × 9 columns</p>\n",
       "</div>"
      ],
      "text/plain": [
       "     Pregnancies  Glucose  BloodPressure  SkinThickness  Insulin   BMI  \\\n",
       "0              6      148             72             35        0  33.6   \n",
       "1              1       85             66             29        0  26.6   \n",
       "2              8      183             64              0        0  23.3   \n",
       "3              1       89             66             23       94  28.1   \n",
       "4              0      137             40             35      168  43.1   \n",
       "..           ...      ...            ...            ...      ...   ...   \n",
       "763           10      101             76             48      180  32.9   \n",
       "764            2      122             70             27        0  36.8   \n",
       "765            5      121             72             23      112  26.2   \n",
       "766            1      126             60              0        0  30.1   \n",
       "767            1       93             70             31        0  30.4   \n",
       "\n",
       "     DiabetesPedigreeFunction  Age  Outcome  \n",
       "0                       0.627   50        1  \n",
       "1                       0.351   31        0  \n",
       "2                       0.672   32        1  \n",
       "3                       0.167   21        0  \n",
       "4                       2.288   33        1  \n",
       "..                        ...  ...      ...  \n",
       "763                     0.171   63        0  \n",
       "764                     0.340   27        0  \n",
       "765                     0.245   30        0  \n",
       "766                     0.349   47        1  \n",
       "767                     0.315   23        0  \n",
       "\n",
       "[768 rows x 9 columns]"
      ]
     },
     "execution_count": 24,
     "metadata": {},
     "output_type": "execute_result"
    }
   ],
   "source": [
    "dia = pd.read_csv(\"diabetes.csv\")\n",
    "dia"
   ]
  },
  {
   "cell_type": "code",
   "execution_count": 25,
   "id": "32d3481e",
   "metadata": {},
   "outputs": [
    {
     "name": "stdout",
     "output_type": "stream",
     "text": [
      "<class 'pandas.core.frame.DataFrame'>\n",
      "RangeIndex: 768 entries, 0 to 767\n",
      "Data columns (total 9 columns):\n",
      " #   Column                    Non-Null Count  Dtype  \n",
      "---  ------                    --------------  -----  \n",
      " 0   Pregnancies               768 non-null    int64  \n",
      " 1   Glucose                   768 non-null    int64  \n",
      " 2   BloodPressure             768 non-null    int64  \n",
      " 3   SkinThickness             768 non-null    int64  \n",
      " 4   Insulin                   768 non-null    int64  \n",
      " 5   BMI                       768 non-null    float64\n",
      " 6   DiabetesPedigreeFunction  768 non-null    float64\n",
      " 7   Age                       768 non-null    int64  \n",
      " 8   Outcome                   768 non-null    int64  \n",
      "dtypes: float64(2), int64(7)\n",
      "memory usage: 54.1 KB\n"
     ]
    }
   ],
   "source": [
    "dia.info()"
   ]
  },
  {
   "cell_type": "code",
   "execution_count": 26,
   "id": "970ca479",
   "metadata": {},
   "outputs": [
    {
     "data": {
      "text/html": [
       "<div>\n",
       "<style scoped>\n",
       "    .dataframe tbody tr th:only-of-type {\n",
       "        vertical-align: middle;\n",
       "    }\n",
       "\n",
       "    .dataframe tbody tr th {\n",
       "        vertical-align: top;\n",
       "    }\n",
       "\n",
       "    .dataframe thead th {\n",
       "        text-align: right;\n",
       "    }\n",
       "</style>\n",
       "<table border=\"1\" class=\"dataframe\">\n",
       "  <thead>\n",
       "    <tr style=\"text-align: right;\">\n",
       "      <th></th>\n",
       "      <th>Pregnancies</th>\n",
       "      <th>Glucose</th>\n",
       "      <th>BloodPressure</th>\n",
       "      <th>SkinThickness</th>\n",
       "      <th>Insulin</th>\n",
       "      <th>BMI</th>\n",
       "      <th>DiabetesPedigreeFunction</th>\n",
       "      <th>Age</th>\n",
       "      <th>Outcome</th>\n",
       "    </tr>\n",
       "  </thead>\n",
       "  <tbody>\n",
       "    <tr>\n",
       "      <th>count</th>\n",
       "      <td>768.000000</td>\n",
       "      <td>768.000000</td>\n",
       "      <td>768.000000</td>\n",
       "      <td>768.000000</td>\n",
       "      <td>768.000000</td>\n",
       "      <td>768.000000</td>\n",
       "      <td>768.000000</td>\n",
       "      <td>768.000000</td>\n",
       "      <td>768.000000</td>\n",
       "    </tr>\n",
       "    <tr>\n",
       "      <th>mean</th>\n",
       "      <td>3.845052</td>\n",
       "      <td>120.894531</td>\n",
       "      <td>69.105469</td>\n",
       "      <td>20.536458</td>\n",
       "      <td>79.799479</td>\n",
       "      <td>31.992578</td>\n",
       "      <td>0.471876</td>\n",
       "      <td>33.240885</td>\n",
       "      <td>0.348958</td>\n",
       "    </tr>\n",
       "    <tr>\n",
       "      <th>std</th>\n",
       "      <td>3.369578</td>\n",
       "      <td>31.972618</td>\n",
       "      <td>19.355807</td>\n",
       "      <td>15.952218</td>\n",
       "      <td>115.244002</td>\n",
       "      <td>7.884160</td>\n",
       "      <td>0.331329</td>\n",
       "      <td>11.760232</td>\n",
       "      <td>0.476951</td>\n",
       "    </tr>\n",
       "    <tr>\n",
       "      <th>min</th>\n",
       "      <td>0.000000</td>\n",
       "      <td>0.000000</td>\n",
       "      <td>0.000000</td>\n",
       "      <td>0.000000</td>\n",
       "      <td>0.000000</td>\n",
       "      <td>0.000000</td>\n",
       "      <td>0.078000</td>\n",
       "      <td>21.000000</td>\n",
       "      <td>0.000000</td>\n",
       "    </tr>\n",
       "    <tr>\n",
       "      <th>25%</th>\n",
       "      <td>1.000000</td>\n",
       "      <td>99.000000</td>\n",
       "      <td>62.000000</td>\n",
       "      <td>0.000000</td>\n",
       "      <td>0.000000</td>\n",
       "      <td>27.300000</td>\n",
       "      <td>0.243750</td>\n",
       "      <td>24.000000</td>\n",
       "      <td>0.000000</td>\n",
       "    </tr>\n",
       "    <tr>\n",
       "      <th>50%</th>\n",
       "      <td>3.000000</td>\n",
       "      <td>117.000000</td>\n",
       "      <td>72.000000</td>\n",
       "      <td>23.000000</td>\n",
       "      <td>30.500000</td>\n",
       "      <td>32.000000</td>\n",
       "      <td>0.372500</td>\n",
       "      <td>29.000000</td>\n",
       "      <td>0.000000</td>\n",
       "    </tr>\n",
       "    <tr>\n",
       "      <th>75%</th>\n",
       "      <td>6.000000</td>\n",
       "      <td>140.250000</td>\n",
       "      <td>80.000000</td>\n",
       "      <td>32.000000</td>\n",
       "      <td>127.250000</td>\n",
       "      <td>36.600000</td>\n",
       "      <td>0.626250</td>\n",
       "      <td>41.000000</td>\n",
       "      <td>1.000000</td>\n",
       "    </tr>\n",
       "    <tr>\n",
       "      <th>max</th>\n",
       "      <td>17.000000</td>\n",
       "      <td>199.000000</td>\n",
       "      <td>122.000000</td>\n",
       "      <td>99.000000</td>\n",
       "      <td>846.000000</td>\n",
       "      <td>67.100000</td>\n",
       "      <td>2.420000</td>\n",
       "      <td>81.000000</td>\n",
       "      <td>1.000000</td>\n",
       "    </tr>\n",
       "  </tbody>\n",
       "</table>\n",
       "</div>"
      ],
      "text/plain": [
       "       Pregnancies     Glucose  BloodPressure  SkinThickness     Insulin  \\\n",
       "count   768.000000  768.000000     768.000000     768.000000  768.000000   \n",
       "mean      3.845052  120.894531      69.105469      20.536458   79.799479   \n",
       "std       3.369578   31.972618      19.355807      15.952218  115.244002   \n",
       "min       0.000000    0.000000       0.000000       0.000000    0.000000   \n",
       "25%       1.000000   99.000000      62.000000       0.000000    0.000000   \n",
       "50%       3.000000  117.000000      72.000000      23.000000   30.500000   \n",
       "75%       6.000000  140.250000      80.000000      32.000000  127.250000   \n",
       "max      17.000000  199.000000     122.000000      99.000000  846.000000   \n",
       "\n",
       "              BMI  DiabetesPedigreeFunction         Age     Outcome  \n",
       "count  768.000000                768.000000  768.000000  768.000000  \n",
       "mean    31.992578                  0.471876   33.240885    0.348958  \n",
       "std      7.884160                  0.331329   11.760232    0.476951  \n",
       "min      0.000000                  0.078000   21.000000    0.000000  \n",
       "25%     27.300000                  0.243750   24.000000    0.000000  \n",
       "50%     32.000000                  0.372500   29.000000    0.000000  \n",
       "75%     36.600000                  0.626250   41.000000    1.000000  \n",
       "max     67.100000                  2.420000   81.000000    1.000000  "
      ]
     },
     "execution_count": 26,
     "metadata": {},
     "output_type": "execute_result"
    }
   ],
   "source": [
    "dia.describe()"
   ]
  },
  {
   "cell_type": "code",
   "execution_count": 27,
   "id": "5eb1df28",
   "metadata": {},
   "outputs": [
    {
     "data": {
      "text/plain": [
       "Pregnancies                 0\n",
       "Glucose                     0\n",
       "BloodPressure               0\n",
       "SkinThickness               0\n",
       "Insulin                     0\n",
       "BMI                         0\n",
       "DiabetesPedigreeFunction    0\n",
       "Age                         0\n",
       "Outcome                     0\n",
       "dtype: int64"
      ]
     },
     "execution_count": 27,
     "metadata": {},
     "output_type": "execute_result"
    }
   ],
   "source": [
    "dia.isnull().sum()"
   ]
  },
  {
   "cell_type": "markdown",
   "id": "a107ba69",
   "metadata": {},
   "source": [
    "### Correlation among feaatures\n",
    "Based on the heatmap, we can conclude that there is not high correlation among any of the features, so it is safe to take into consideration all the variables to train the model."
   ]
  },
  {
   "cell_type": "code",
   "execution_count": 28,
   "id": "a018753a",
   "metadata": {},
   "outputs": [
    {
     "data": {
      "text/plain": [
       "<AxesSubplot:>"
      ]
     },
     "execution_count": 28,
     "metadata": {},
     "output_type": "execute_result"
    },
    {
     "data": {
      "image/png": "[encoded data removed]",
      "text/plain": [
       "<Figure size 1440x360 with 2 Axes>"
      ]
     },
     "metadata": {
      "needs_background": "light"
     },
     "output_type": "display_data"
    }
   ],
   "source": [
    "mask = np.zeros_like(dia.corr(), dtype=np.bool)\n",
    "mask[np.triu_indices_from(mask)] = True\n",
    "plt.figure(figsize=(20,5))\n",
    "sns.heatmap(dia.corr(),cmap='RdBu_r',mask=mask, annot=True)"
   ]
  },
  {
   "cell_type": "markdown",
   "id": "424bd66e",
   "metadata": {},
   "source": [
    "### Dealing with missing or bad data \n",
    "Dataset have no null value, but if we look at the minimum value we can see that glucose, bloodpressure, skinthickness and BMI is having 0. In real life, there is no possibility of this variable being 0 so the optimum solution is to replace it with mean, median or mode. \n",
    "To decide which method to use we can check the skewness of the data, based on the skewness score we can conclude that data is not much skewed so mean is the right option to go with except for Insulin which is having high skewness so for that median is a good option."
   ]
  },
  {
   "cell_type": "code",
   "execution_count": 29,
   "id": "351e659e",
   "metadata": {
    "scrolled": false
   },
   "outputs": [
    {
     "data": {
      "text/html": [
       "<div>\n",
       "<style scoped>\n",
       "    .dataframe tbody tr th:only-of-type {\n",
       "        vertical-align: middle;\n",
       "    }\n",
       "\n",
       "    .dataframe tbody tr th {\n",
       "        vertical-align: top;\n",
       "    }\n",
       "\n",
       "    .dataframe thead th {\n",
       "        text-align: right;\n",
       "    }\n",
       "</style>\n",
       "<table border=\"1\" class=\"dataframe\">\n",
       "  <thead>\n",
       "    <tr style=\"text-align: right;\">\n",
       "      <th></th>\n",
       "      <th>Pregnancies</th>\n",
       "      <th>Glucose</th>\n",
       "      <th>BloodPressure</th>\n",
       "      <th>SkinThickness</th>\n",
       "      <th>Insulin</th>\n",
       "      <th>BMI</th>\n",
       "      <th>DiabetesPedigreeFunction</th>\n",
       "      <th>Age</th>\n",
       "      <th>Outcome</th>\n",
       "    </tr>\n",
       "  </thead>\n",
       "  <tbody>\n",
       "    <tr>\n",
       "      <th>75</th>\n",
       "      <td>1</td>\n",
       "      <td>0</td>\n",
       "      <td>48</td>\n",
       "      <td>20</td>\n",
       "      <td>0</td>\n",
       "      <td>24.7</td>\n",
       "      <td>0.140</td>\n",
       "      <td>22</td>\n",
       "      <td>0</td>\n",
       "    </tr>\n",
       "    <tr>\n",
       "      <th>182</th>\n",
       "      <td>1</td>\n",
       "      <td>0</td>\n",
       "      <td>74</td>\n",
       "      <td>20</td>\n",
       "      <td>23</td>\n",
       "      <td>27.7</td>\n",
       "      <td>0.299</td>\n",
       "      <td>21</td>\n",
       "      <td>0</td>\n",
       "    </tr>\n",
       "    <tr>\n",
       "      <th>342</th>\n",
       "      <td>1</td>\n",
       "      <td>0</td>\n",
       "      <td>68</td>\n",
       "      <td>35</td>\n",
       "      <td>0</td>\n",
       "      <td>32.0</td>\n",
       "      <td>0.389</td>\n",
       "      <td>22</td>\n",
       "      <td>0</td>\n",
       "    </tr>\n",
       "    <tr>\n",
       "      <th>349</th>\n",
       "      <td>5</td>\n",
       "      <td>0</td>\n",
       "      <td>80</td>\n",
       "      <td>32</td>\n",
       "      <td>0</td>\n",
       "      <td>41.0</td>\n",
       "      <td>0.346</td>\n",
       "      <td>37</td>\n",
       "      <td>1</td>\n",
       "    </tr>\n",
       "    <tr>\n",
       "      <th>502</th>\n",
       "      <td>6</td>\n",
       "      <td>0</td>\n",
       "      <td>68</td>\n",
       "      <td>41</td>\n",
       "      <td>0</td>\n",
       "      <td>39.0</td>\n",
       "      <td>0.727</td>\n",
       "      <td>41</td>\n",
       "      <td>1</td>\n",
       "    </tr>\n",
       "  </tbody>\n",
       "</table>\n",
       "</div>"
      ],
      "text/plain": [
       "     Pregnancies  Glucose  BloodPressure  SkinThickness  Insulin   BMI  \\\n",
       "75             1        0             48             20        0  24.7   \n",
       "182            1        0             74             20       23  27.7   \n",
       "342            1        0             68             35        0  32.0   \n",
       "349            5        0             80             32        0  41.0   \n",
       "502            6        0             68             41        0  39.0   \n",
       "\n",
       "     DiabetesPedigreeFunction  Age  Outcome  \n",
       "75                      0.140   22        0  \n",
       "182                     0.299   21        0  \n",
       "342                     0.389   22        0  \n",
       "349                     0.346   37        1  \n",
       "502                     0.727   41        1  "
      ]
     },
     "execution_count": 29,
     "metadata": {},
     "output_type": "execute_result"
    }
   ],
   "source": [
    "dia.loc[dia['Glucose'] == 0]"
   ]
  },
  {
   "cell_type": "code",
   "execution_count": 48,
   "id": "8d3543f9",
   "metadata": {},
   "outputs": [
    {
     "data": {
      "text/plain": [
       "0.5321827325344577"
      ]
     },
     "execution_count": 48,
     "metadata": {},
     "output_type": "execute_result"
    }
   ],
   "source": [
    "skew(dia['Glucose'])"
   ]
  },
  {
   "cell_type": "code",
   "execution_count": 30,
   "id": "78315d3b",
   "metadata": {},
   "outputs": [
    {
     "data": {
      "text/plain": [
       "120.89453125"
      ]
     },
     "execution_count": 30,
     "metadata": {},
     "output_type": "execute_result"
    }
   ],
   "source": [
    "dia['Glucose'].mean()"
   ]
  },
  {
   "cell_type": "code",
   "execution_count": 31,
   "id": "4a636456",
   "metadata": {},
   "outputs": [
    {
     "data": {
      "text/plain": [
       "Pregnancies                  0.000\n",
       "Glucose                     44.000\n",
       "BloodPressure                0.000\n",
       "SkinThickness                0.000\n",
       "Insulin                      0.000\n",
       "BMI                          0.000\n",
       "DiabetesPedigreeFunction     0.078\n",
       "Age                         21.000\n",
       "Outcome                      0.000\n",
       "dtype: float64"
      ]
     },
     "execution_count": 31,
     "metadata": {},
     "output_type": "execute_result"
    }
   ],
   "source": [
    "dia['Glucose'] = dia['Glucose'].replace(0, dia['Glucose'].mean())\n",
    "dia.min()"
   ]
  },
  {
   "cell_type": "code",
   "execution_count": 51,
   "id": "e49bd541",
   "metadata": {},
   "outputs": [
    {
     "name": "stdout",
     "output_type": "stream",
     "text": [
      "0.1727120409853505\n"
     ]
    }
   ],
   "source": [
    "print(skew(dia['BloodPressure']))\n",
    "dia['BloodPressure'] = dia['BloodPressure'].replace(0, dia['BloodPressure'].mean())\n",
    "#dia.min()"
   ]
  },
  {
   "cell_type": "code",
   "execution_count": 53,
   "id": "6e8feae5",
   "metadata": {},
   "outputs": [
    {
     "name": "stdout",
     "output_type": "stream",
     "text": [
      "1.224272819820414 3.2853921882616057 0.5999285101343649\n"
     ]
    },
    {
     "data": {
      "text/plain": [
       "Pregnancies                  0.000\n",
       "Glucose                     44.000\n",
       "BloodPressure               24.000\n",
       "SkinThickness                7.000\n",
       "Insulin                     14.000\n",
       "BMI                         18.200\n",
       "DiabetesPedigreeFunction     0.078\n",
       "Age                         21.000\n",
       "Outcome                      0.000\n",
       "dtype: float64"
      ]
     },
     "execution_count": 53,
     "metadata": {},
     "output_type": "execute_result"
    }
   ],
   "source": [
    "print(skew(dia['SkinThickness']),skew(dia['Insulin']),skew(dia['BMI']))\n",
    "dia['SkinThickness'] = dia['SkinThickness'].replace(0, dia['SkinThickness'].mean())\n",
    "dia['Insulin'] = dia['Insulin'].replace(0, dia['Insulin'].median())\n",
    "dia['BMI'] = dia['BMI'].replace(0, dia['BMI'].mean())\n",
    "dia.min()"
   ]
  },
  {
   "cell_type": "code",
   "execution_count": 54,
   "id": "0e167943",
   "metadata": {},
   "outputs": [
    {
     "data": {
      "text/plain": [
       "Text(0.5, 1.0, 'Age')"
      ]
     },
     "execution_count": 54,
     "metadata": {},
     "output_type": "execute_result"
    },
    {
     "data": {
      "image/png": "[encoded data removed]",
      "text/plain": [
       "<Figure size 1440x720 with 6 Axes>"
      ]
     },
     "metadata": {
      "needs_background": "light"
     },
     "output_type": "display_data"
    }
   ],
   "source": [
    "fig, axs = plt.subplots(2, 3, figsize=(20, 10))\n",
    "\n",
    "axs[0,0].boxplot(dia['Pregnancies'])\n",
    "axs[0,0].set_title(\"Pregnancies\")\n",
    "axs[0,1].boxplot(dia['Glucose'])\n",
    "axs[0,1].set_title(\"Glucose\")\n",
    "axs[0,2].boxplot(dia['BloodPressure'])\n",
    "axs[0,2].set_title(\"BloodPressure\")\n",
    "axs[1,0].boxplot(dia['SkinThickness'])\n",
    "axs[1,0].set_title(\"SkinThickness\")\n",
    "axs[1,1].boxplot(dia['Insulin'])\n",
    "axs[1,1].set_title(\"Insulin\")\n",
    "axs[1,2].boxplot(dia['Age'])\n",
    "axs[1,2].set_title(\"Age\")"
   ]
  },
  {
   "cell_type": "code",
   "execution_count": 56,
   "id": "8c28bb17",
   "metadata": {
    "scrolled": true
   },
   "outputs": [
    {
     "data": {
      "image/png": "[encoded data removed]",
      "text/plain": [
       "<Figure size 720x504 with 1 Axes>"
      ]
     },
     "metadata": {
      "needs_background": "light"
     },
     "output_type": "display_data"
    }
   ],
   "source": [
    "fig, axs = plt.subplots(1, 1,figsize =(10, 7),tight_layout = True)\n",
    " \n",
    "axs.hist(dia['Insulin'], bins = 10)\n",
    " \n",
    "# Show plot\n",
    "plt.show()"
   ]
  },
  {
   "cell_type": "markdown",
   "id": "6055acf1",
   "metadata": {},
   "source": [
    "### Logistics Regression \n",
    "Split the dataset into train and test, train the logistic regression model using this data set which can be then used as a based to predict the value in future."
   ]
  },
  {
   "cell_type": "code",
   "execution_count": 35,
   "id": "716dc23b",
   "metadata": {},
   "outputs": [
    {
     "name": "stdout",
     "output_type": "stream",
     "text": [
      "intercept  -9.01638704948112\n",
      "       Pregnancies   Glucose  BloodPressure  SkinThickness  Insulin       BMI  \\\n",
      "coeff     0.071302  0.035376      -0.019649      -0.014096  0.00019  0.129028   \n",
      "\n",
      "       DiabetesPedigreeFunction       Age  \n",
      "coeff                  0.407176  0.028109  \n",
      "\n",
      "AIC 454.8474520051017\n"
     ]
    }
   ],
   "source": [
    "y = dia['Outcome']\n",
    "X = dia.drop(columns=['Outcome'])\n",
    "\n",
    "# partition data\n",
    "train_X, test_X, train_y, test_y = train_test_split(X, y, test_size=0.4, random_state=1)\n",
    "\n",
    "# fit a logistic regression (set penalty=l2 and C=1e42 to avoid regularization)\n",
    "logit_reg = LogisticRegression(penalty=\"l2\", C=1e42, solver='liblinear')\n",
    "logit_reg.fit(train_X, train_y)\n",
    "\n",
    "print('intercept ', logit_reg.intercept_[0])\n",
    "print(pd.DataFrame({'coeff': logit_reg.coef_[0]}, index=X.columns).transpose())\n",
    "print()\n",
    "\n",
    "### Akaike information criterion (AIC) (Akaike, 1974) is a fined technique based on in-sample \n",
    "### fit to estimate the likelihood of a model to predict/estimate the future values.\n",
    "print('AIC', AIC_score(test_y, logit_reg.predict(test_X), df = len(train_X.columns) + 1))"
   ]
  },
  {
   "cell_type": "code",
   "execution_count": 36,
   "id": "64bd445b",
   "metadata": {},
   "outputs": [
    {
     "name": "stdout",
     "output_type": "stream",
     "text": [
      "Confusion Matrix (Accuracy 0.7761)\n",
      "\n",
      "       Prediction\n",
      "Actual   0   1\n",
      "     0 262  39\n",
      "     1  64  95\n"
     ]
    }
   ],
   "source": [
    "classificationSummary(train_y, logit_reg.predict(train_X))"
   ]
  },
  {
   "cell_type": "markdown",
   "id": "ab2ad928",
   "metadata": {},
   "source": [
    "### Cross validation using logisticregression \n",
    "The accuracy of the model trained using simple logistic regression is not good, to increase the accuracy we can use cross validation logistic regression.\n",
    "There is no increase in the accuracy level but this is the more reliable model compared to the previous one.\n",
    "The another intereting observation here is type 1 and type 2 error has decreased compared to the previous model."
   ]
  },
  {
   "cell_type": "code",
   "execution_count": 57,
   "id": "49fc5810",
   "metadata": {},
   "outputs": [
    {
     "name": "stdout",
     "output_type": "stream",
     "text": [
      "regularization [2.7825594]\n",
      "intercept  -8.62625336759052\n",
      "       Pregnancies   Glucose  BloodPressure  SkinThickness   Insulin       BMI  \\\n",
      "coeff     0.070347  0.034539      -0.020967      -0.013893  0.000258  0.125092   \n",
      "\n",
      "       DiabetesPedigreeFunction       Age  \n",
      "coeff                  0.337896  0.027329  \n",
      "AIC 463.0612721064074\n",
      "Confusion Matrix (Accuracy 0.7532)\n",
      "\n",
      "       Prediction\n",
      "Actual   0   1\n",
      "     0 173  26\n",
      "     1  50  59\n"
     ]
    }
   ],
   "source": [
    "train_X, valid_X, train_y, valid_y = train_test_split(X, y, test_size=0.4, \n",
    "                                                      random_state=1)\n",
    "\n",
    "logit_red = LogisticRegressionCV(penalty=\"l1\", solver='liblinear', cv=10)\n",
    "logit_red.fit(train_X, train_y)\n",
    "pd.set_option('display.width', 100)\n",
    "print('regularization', logit_red.C_)\n",
    "print('intercept ', logit_red.intercept_[0])\n",
    "print(pd.DataFrame({'coeff': logit_red.coef_[0]}, index=X.columns).transpose())\n",
    "pd.reset_option('display.width')\n",
    "print('AIC', AIC_score(valid_y, logit_red.predict(valid_X), df=len(train_X.columns) + 1))\n",
    "\n",
    "# confusion matrix\n",
    "classificationSummary(valid_y, logit_red.predict(valid_X))"
   ]
  },
  {
   "cell_type": "markdown",
   "id": "fec90209",
   "metadata": {},
   "source": [
    "### Naive Bayes\n",
    "To check if the accuracy of the model increases by changing the algorithm, train using naive bayes.\n"
   ]
  },
  {
   "cell_type": "code",
   "execution_count": 38,
   "id": "34aa1cda",
   "metadata": {
    "scrolled": true
   },
   "outputs": [
    {
     "name": "stdout",
     "output_type": "stream",
     "text": [
      "Confusion Matrix (Accuracy 0.6543)\n",
      "\n",
      "       Prediction\n",
      "Actual   0   1\n",
      "     0 242  59\n",
      "     1 100  59\n",
      "\n",
      "Confusion Matrix (Accuracy 0.6006)\n",
      "\n",
      "       Prediction\n",
      "Actual   0   1\n",
      "     0 149  50\n",
      "     1  73  36\n",
      "\n"
     ]
    }
   ],
   "source": [
    "# run naive Bayes\n",
    "delays_nb = MultinomialNB(alpha=0.01)\n",
    "delays_nb.fit(train_X, train_y)\n",
    "\n",
    "# predict probabilities\n",
    "predProb_train = delays_nb.predict_proba(train_X)\n",
    "predProb_test = delays_nb.predict_proba(test_X)\n",
    "\n",
    "# predict class membership\n",
    "y_train_pred_nb = delays_nb.predict(train_X)\n",
    "y_test_pred_nb = delays_nb.predict(test_X)\n",
    "\n",
    "# accuracy\n",
    "classificationSummary(train_y, y_train_pred_nb) \n",
    "print()\n",
    "classificationSummary(test_y, y_test_pred_nb)\n",
    "print()"
   ]
  },
  {
   "cell_type": "markdown",
   "id": "fc2122cf",
   "metadata": {},
   "source": [
    "### KNN classification \n",
    "Take a record of unseen data which can be then fed to the trained model using knn algorithm to check the accuracy.\n",
    "The record taken is not related to any of the record in the "
   ]
  },
  {
   "cell_type": "code",
   "execution_count": 39,
   "id": "e9294f56",
   "metadata": {},
   "outputs": [],
   "source": [
    "train_data, test_data = train_test_split(dia, test_size=0.40, random_state=26)\n",
    "    \n",
    "# dataframe of to predict\n",
    "predict_data = pd.DataFrame([\n",
    "    {'Pregnancies':7,'Glucose':102,'BloodPressure':79,'SkinThickness':27,'Insulin':200,'BMI':45.7,'DiabetesPedigreeFunction':0.9,'Age':34},\n",
    "])"
   ]
  },
  {
   "cell_type": "markdown",
   "id": "5e0da6b4",
   "metadata": {},
   "source": [
    "### Normalization of Data\n",
    "As knn requires data to be normalized on the metric scale for the equal importance of all the features irrespective to the values."
   ]
  },
  {
   "cell_type": "code",
   "execution_count": 40,
   "id": "776eb3c5",
   "metadata": {},
   "outputs": [],
   "source": [
    "scaler = StandardScaler()\n",
    "scaler.fit(train_data[['Pregnancies','Glucose','BloodPressure','SkinThickness','Insulin','BMI','DiabetesPedigreeFunction','Age']])\n",
    "\n",
    "# Transform the full dataset\n",
    "dia_normalized = pd.concat([pd.DataFrame(\n",
    "    scaler.transform(dia[['Pregnancies','Glucose','BloodPressure','SkinThickness','Insulin','BMI','DiabetesPedigreeFunction','Age']]), columns=['Pregnancies','Glucose','BloodPressure','SkinThickness','Insulin','BMI','DiabetesPedigreeFunction','Age']),\n",
    "                                      dia[['Outcome']]], axis=1)\n",
    "train_normalized = dia_normalized.iloc[train_data.index]\n",
    "test_normalized = dia_normalized.iloc[test_data.index]\n",
    "predict_normalized = pd.DataFrame(scaler.transform(predict_data), columns=['Pregnancies','Glucose','BloodPressure','SkinThickness','Insulin','BMI','DiabetesPedigreeFunction','Age'])"
   ]
  },
  {
   "cell_type": "code",
   "execution_count": 41,
   "id": "f12129c9",
   "metadata": {},
   "outputs": [],
   "source": [
    "# Initialize a data frame with two columns: `k` and `accuracy`\n",
    "train_normalized_x = train_normalized[['Pregnancies','Glucose','BloodPressure','SkinThickness','Insulin','BMI','DiabetesPedigreeFunction','Age']]\n",
    "train_normalized_y = train_normalized['Outcome']\n",
    "test_normalized_x = test_normalized[['Pregnancies','Glucose','BloodPressure','SkinThickness','Insulin','BMI','DiabetesPedigreeFunction','Age']]\n",
    "test_normalized_y = test_normalized['Outcome']"
   ]
  },
  {
   "cell_type": "code",
   "execution_count": 42,
   "id": "ad52041a",
   "metadata": {},
   "outputs": [
    {
     "name": "stdout",
     "output_type": "stream",
     "text": [
      "     k  accuracy\n",
      "0    1  0.668831\n",
      "1    2  0.678571\n",
      "2    3  0.720779\n",
      "3    4  0.730519\n",
      "4    5  0.730519\n",
      "5    6  0.750000\n",
      "6    7  0.753247\n",
      "7    8  0.746753\n",
      "8    9  0.746753\n",
      "9   10  0.775974\n",
      "10  11  0.762987\n",
      "11  12  0.759740\n",
      "12  13  0.766234\n",
      "13  14  0.753247\n"
     ]
    }
   ],
   "source": [
    "# iterate over a range of nearest neighbor values\n",
    "# train and check with test\n",
    "results = []\n",
    "for k in range(1, 15):\n",
    "    knn = KNeighborsClassifier(n_neighbors=k).fit(train_normalized_x, train_normalized_y)\n",
    "    results.append({'k': k, 'accuracy': accuracy_score(test_normalized_y, knn.predict(test_normalized_x))})\n",
    "results = pd.DataFrame(results)\n",
    "print(results)"
   ]
  },
  {
   "cell_type": "code",
   "execution_count": 44,
   "id": "7d06610d",
   "metadata": {},
   "outputs": [
    {
     "name": "stdout",
     "output_type": "stream",
     "text": [
      "Confusion Matrix (Accuracy 0.5848)\n",
      "\n",
      "       Prediction\n",
      "Actual   0   1\n",
      "     0 227  76\n",
      "     1 115  42\n",
      "\n",
      "Confusion Matrix (Accuracy 0.5877)\n",
      "\n",
      "       Prediction\n",
      "Actual   0   1\n",
      "     0 146  51\n",
      "     1  76  35\n",
      "\n"
     ]
    }
   ],
   "source": [
    "# train with all data\n",
    "knn = KNeighborsClassifier(n_neighbors=6).fit(train_normalized_x, train_normalized_y)\n",
    "\n",
    "# predict class membership\n",
    "y_train_pred_knn = knn.predict(train_normalized_x)\n",
    "y_test_pred_knn = knn.predict(test_normalized_x)\n",
    "\n",
    "\n",
    "classificationSummary(train_normalized_y, y_train_pred) \n",
    "print()\n",
    "classificationSummary(test_normalized_y, y_test_pred)\n",
    "print()\n",
    "\n"
   ]
  },
  {
   "cell_type": "code",
   "execution_count": 45,
   "id": "d93bb010",
   "metadata": {},
   "outputs": [
    {
     "name": "stdout",
     "output_type": "stream",
     "text": [
      "----------------------------------------------------------------\n",
      "0\n",
      "Pregnancies                   7.0\n",
      "Glucose                     102.0\n",
      "BloodPressure                79.0\n",
      "SkinThickness                27.0\n",
      "Insulin                     200.0\n",
      "BMI                          45.7\n",
      "DiabetesPedigreeFunction      0.9\n",
      "Age                          34.0\n",
      "Name: 0, dtype: float64\n",
      "     Pregnancies  Glucose  BloodPressure  SkinThickness     Insulin   BMI  \\\n",
      "122            2    107.0           74.0           30.0  100.000000  33.6   \n",
      "301            2    144.0           58.0           33.0  135.000000  31.6   \n",
      "367            0    101.0           64.0           17.0   79.799479  21.0   \n",
      "322            0    124.0           70.0           20.0   79.799479  27.4   \n",
      "286            5    155.0           84.0           44.0  545.000000  38.7   \n",
      "135            2    125.0           60.0           20.0  140.000000  33.8   \n",
      "\n",
      "     DiabetesPedigreeFunction  Age  Outcome  \n",
      "122                     0.404   23        0  \n",
      "301                     0.422   25        1  \n",
      "367                     0.252   21        0  \n",
      "322                     0.254   36        1  \n",
      "286                     0.619   34        0  \n",
      "135                     0.088   31        0  \n",
      "     Pregnancies   Glucose  BloodPressure  SkinThickness   Insulin       BMI  \\\n",
      "122    -0.492874 -0.462938       0.174431       0.316236 -0.215879  0.131787   \n",
      "301    -0.492874  0.749306      -1.141242       0.614369  0.153389 -0.162667   \n",
      "367    -1.095859 -0.659518      -0.647865      -0.975672 -0.429005 -1.723274   \n",
      "322    -1.095859  0.094039      -0.154487      -0.677540 -0.429005 -0.781021   \n",
      "286     0.411602  1.109703       0.996727       1.707522  4.479103  0.882646   \n",
      "135    -0.492874  0.126802      -0.976783      -0.677540  0.206141  0.161233   \n",
      "\n",
      "     DiabetesPedigreeFunction       Age  Outcome  \n",
      "122                 -0.204043 -0.842294        0  \n",
      "301                 -0.148652 -0.663000        1  \n",
      "367                 -0.671787 -1.021588        0  \n",
      "322                 -0.665632  0.323120        1  \n",
      "286                  0.457569  0.143825        0  \n",
      "135                 -1.176458 -0.125116        0  \n"
     ]
    }
   ],
   "source": [
    "distances, indices = knn.kneighbors(predict_normalized)\n",
    "predictions = knn.predict(predict_normalized)\n",
    "for index, prediction in enumerate(predictions):\n",
    "    print(64 * '-')\n",
    "    print(prediction)\n",
    "    print(predict_data.iloc[index])\n",
    "    print(dia.iloc[indices[index], :])\n",
    "    print(dia_normalized.iloc[indices[index], :])\n"
   ]
  },
  {
   "cell_type": "markdown",
   "id": "c1b6d219",
   "metadata": {},
   "source": [
    "### Analysis \n",
    "Based on the accuracy value of the classification algorithms we can conclude that dataset is not appropriate, either it requires more feature or more rows to predict accurately.\n",
    "To rank the model I have taken confusion matrix and accuracy score.\n",
    "1. Logistic regression have the best accuracy score and also has the minimum type 1 and type 2 error.\n",
    "2. Navie bayes has the second best accuracy score.\n",
    "3. knn has the worst accuracy score.\n",
    "The efficiency of the model can be improved by collecting more relevant data."
   ]
  }
 ],
 "metadata": {
  "kernelspec": {
   "display_name": "Python 3 (ipykernel)",
   "language": "python",
   "name": "python3"
  },
  "language_info": {
   "codemirror_mode": {
    "name": "ipython",
    "version": 3
   },
   "file_extension": ".py",
   "mimetype": "text/x-python",
   "name": "python",
   "nbconvert_exporter": "python",
   "pygments_lexer": "ipython3",
   "version": "3.9.12"
  }
 },
 "nbformat": 4,
 "nbformat_minor": 5
}
